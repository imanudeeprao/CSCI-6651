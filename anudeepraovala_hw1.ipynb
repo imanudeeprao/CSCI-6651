{
 "cells": [
  {
   "cell_type": "code",
   "execution_count": 1,
   "metadata": {},
   "outputs": [
    {
     "name": "stdout",
     "output_type": "stream",
     "text": [
      "['1', '3', '8']\n"
     ]
    }
   ],
   "source": [
    "command1 = \"switchport trunk allowed vlan 1,2,3,5,8\"\n",
    "command2 = \"switchport trunk allowed vlan 1,3,8,9\"\n",
    "\n",
    "#To extract VLAN numbers from command1\n",
    "vlan1 = set(command1.split()[-1].split(','))\n",
    "\n",
    "#To extract VLAN numbers from command2\n",
    "vlan2 = set(command2.split()[-1].split(','))\n",
    "\n",
    "#Finding intersection of VLANs\n",
    "result = sorted(list(vlan1.intersection(vlan2)))\n",
    "\n",
    "# Print final result\n",
    "print(result)\n"
   ]
  }
 ],
 "metadata": {
  "kernelspec": {
   "display_name": "Python 3",
   "language": "python",
   "name": "python3"
  },
  "language_info": {
   "codemirror_mode": {
    "name": "ipython",
    "version": 3
   },
   "file_extension": ".py",
   "mimetype": "text/x-python",
   "name": "python",
   "nbconvert_exporter": "python",
   "pygments_lexer": "ipython3",
   "version": "3.10.11"
  },
  "orig_nbformat": 4
 },
 "nbformat": 4,
 "nbformat_minor": 2
}
