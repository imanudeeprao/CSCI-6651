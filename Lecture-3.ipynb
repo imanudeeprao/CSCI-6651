{
 "cells": [
  {
   "cell_type": "code",
   "execution_count": 1,
   "metadata": {},
   "outputs": [
    {
     "name": "stdout",
     "output_type": "stream",
     "text": [
      "None\n"
     ]
    }
   ],
   "source": [
    "london_co = {\n",
    "    \"r1\": {\n",
    "        \"location\": \"21 New Globe Walk\",\n",
    "        \"vendor\": \"Cisco\",\n",
    "        \"model\": \"4451\",\n",
    "        \"ios\": \"15.4\",\n",
    "        \"ip\": \"10.255.0.1\"\n",
    "    },\n",
    "    \"r2\": {\n",
    "        \"location\": \"21 New Globe Walk\",\n",
    "        \"vendor\": \"Cisco\",\n",
    "        \"model\": \"4451\",\n",
    "        \"ios\": \"15.4\",\n",
    "        \"ip\": \"10.255.0.2\"\n",
    "    },\n",
    "    \"sw1\": {\n",
    "        \"location\": \"21 New Globe Walk\",\n",
    "        \"vendor\": \"Cisco\",\n",
    "        \"model\": \"3850\",\n",
    "        \"ios\": \"3.6.XE\",\n",
    "        \"ip\": \"10.255.0.101\",\n",
    "        \"vlans\": \"10,20,30\",\n",
    "        \"routing\": True\n",
    "    }\n",
    "}\n",
    "\n",
    "device_name = input(\"Enter device name: \")\n",
    "parameter_name = input(\"Enter parameter name: \")\n",
    "\n",
    "device_dict = london_co.get(device_name, {})\n",
    "parameter_value = device_dict.get(parameter_name)\n",
    "\n",
    "print(parameter_value)\n"
   ]
  },
  {
   "cell_type": "code",
   "execution_count": 2,
   "metadata": {},
   "outputs": [
    {
     "name": "stdout",
     "output_type": "stream",
     "text": [
      "15.4\n"
     ]
    }
   ],
   "source": [
    "london_co = {\n",
    "    \"r1\": {\n",
    "        \"location\": \"21 New Globe Walk\",\n",
    "        \"vendor\": \"Cisco\",\n",
    "        \"model\": \"4451\",\n",
    "        \"ios\": \"15.4\",\n",
    "        \"ip\": \"10.255.0.1\"\n",
    "    },\n",
    "    \"r2\": {\n",
    "        \"location\": \"21 New Globe Walk\",\n",
    "        \"vendor\": \"Cisco\",\n",
    "        \"model\": \"4451\",\n",
    "        \"ios\": \"15.4\",\n",
    "        \"ip\": \"10.255.0.2\"\n",
    "    },\n",
    "    \"sw1\": {\n",
    "        \"location\": \"21 New Globe Walk\",\n",
    "        \"vendor\": \"Cisco\",\n",
    "        \"model\": \"3850\",\n",
    "        \"ios\": \"3.6.XE\",\n",
    "        \"ip\": \"10.255.0.101\",\n",
    "        \"vlans\": \"10,20,30\",\n",
    "        \"routing\": True\n",
    "    }\n",
    "}\n",
    "\n",
    "device_name = input(\"Enter device name: \")\n",
    "device_dict = london_co.get(device_name, {})\n",
    "\n",
    "parameter_names = ', '.join(device_dict.keys())\n",
    "parameter_name = input(f\"Enter parameter name ({parameter_names}): \")\n",
    "\n",
    "parameter_value = device_dict.get(parameter_name)\n",
    "\n",
    "print(parameter_value)\n"
   ]
  },
  {
   "cell_type": "code",
   "execution_count": 3,
   "metadata": {},
   "outputs": [
    {
     "name": "stdout",
     "output_type": "stream",
     "text": [
      "10.255.0.101\n"
     ]
    }
   ],
   "source": [
    "london_co = {\n",
    "    \"r1\": {\n",
    "        \"location\": \"21 New Globe Walk\",\n",
    "        \"vendor\": \"Cisco\",\n",
    "        \"model\": \"4451\",\n",
    "        \"ios\": \"15.4\",\n",
    "        \"ip\": \"10.255.0.1\"\n",
    "    },\n",
    "    \"r2\": {\n",
    "        \"location\": \"21 New Globe Walk\",\n",
    "        \"vendor\": \"Cisco\",\n",
    "        \"model\": \"4451\",\n",
    "        \"ios\": \"15.4\",\n",
    "        \"ip\": \"10.255.0.2\"\n",
    "    },\n",
    "    \"sw1\": {\n",
    "        \"location\": \"21 New Globe Walk\",\n",
    "        \"vendor\": \"Cisco\",\n",
    "        \"model\": \"3850\",\n",
    "        \"ios\": \"3.6.XE\",\n",
    "        \"ip\": \"10.255.0.101\",\n",
    "        \"vlans\": \"10,20,30\",\n",
    "        \"routing\": True\n",
    "    }\n",
    "}\n",
    "\n",
    "device_name = input(\"Enter device name: \")\n",
    "device_dict = london_co.get(device_name, {})\n",
    "\n",
    "parameter_names = ', '.join(device_dict.keys())\n",
    "parameter_name = input(f\"Enter parameter name ({parameter_names}): \")\n",
    "\n",
    "parameter_value = device_dict.get(parameter_name, \"No such parameter\")\n",
    "\n",
    "print(parameter_value)\n"
   ]
  },
  {
   "cell_type": "code",
   "execution_count": null,
   "metadata": {},
   "outputs": [],
   "source": []
  }
 ],
 "metadata": {
  "kernelspec": {
   "display_name": "Python 3",
   "language": "python",
   "name": "python3"
  },
  "language_info": {
   "codemirror_mode": {
    "name": "ipython",
    "version": 3
   },
   "file_extension": ".py",
   "mimetype": "text/x-python",
   "name": "python",
   "nbconvert_exporter": "python",
   "pygments_lexer": "ipython3",
   "version": "3.10.11"
  },
  "orig_nbformat": 4
 },
 "nbformat": 4,
 "nbformat_minor": 2
}
