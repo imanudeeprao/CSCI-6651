{
 "cells": [
  {
   "cell_type": "code",
   "execution_count": 1,
   "metadata": {},
   "outputs": [
    {
     "name": "stdout",
     "output_type": "stream",
     "text": [
      "\n",
      "Network:\n",
      "192       168       0         1       \n",
      "11000000  10101000  00000000  00000001\n",
      "\n",
      "Mask:\n",
      "/24\n",
      "255       255       255       0       \n",
      "11111111  11111111  11111111  00000000\n",
      "\n"
     ]
    }
   ],
   "source": [
    "network = input(\"Enter the IP network :  \")\n",
    "\n",
    "ip, mask = network.split(\"/\")\n",
    "ip_list = ip.split(\".\")\n",
    "mask = int(mask)\n",
    "\n",
    "octet1, octet2 , octet3 , octet4 = [\n",
    "    int(ip_list[0]),\n",
    "    int(ip_list[1]),\n",
    "    int(ip_list[2]),\n",
    "    int(ip_list[3]),\n",
    "]\n",
    "\n",
    "bin_mask = \"1\" * mask + \"0\" * (32 - mask)\n",
    "m1, m2, m3, m4 = [\n",
    "    int(bin_mask[0:8], 2),\n",
    "    int(bin_mask[8:16], 2),\n",
    "    int(bin_mask[16:24], 2),\n",
    "    int(bin_mask[24:32], 2),\n",
    "]\n",
    "\n",
    "ip_output = \"\"\"\n",
    "Network:\n",
    "{0:<8}  {1:<8}  {2:<8}  {3:<8}\n",
    "{0:08b}  {1:08b}  {2:08b}  {3:08b}\"\"\"\n",
    "\n",
    "mask_output = \"\"\"\n",
    "Mask:\n",
    "/{0}\n",
    "{1:<8}  {2:<8}  {3:<8}  {4:<8}\n",
    "{1:08b}  {2:08b}  {3:08b}  {4:08b}\n",
    "\"\"\"\n",
    "\n",
    "print(ip_output.format(octet1, octet2 , octet3 , octet4))\n",
    "print(mask_output.format(mask, m1, m2, m3, m4))"
   ]
  }
 ],
 "metadata": {
  "kernelspec": {
   "display_name": "Python 3",
   "language": "python",
   "name": "python3"
  },
  "language_info": {
   "codemirror_mode": {
    "name": "ipython",
    "version": 3
   },
   "file_extension": ".py",
   "mimetype": "text/x-python",
   "name": "python",
   "nbconvert_exporter": "python",
   "pygments_lexer": "ipython3",
   "version": "3.10.11"
  },
  "orig_nbformat": 4
 },
 "nbformat": 4,
 "nbformat_minor": 2
}
