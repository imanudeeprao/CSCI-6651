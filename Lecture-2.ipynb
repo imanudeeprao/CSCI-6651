{
 "cells": [
  {
   "cell_type": "code",
   "execution_count": 1,
   "metadata": {},
   "outputs": [],
   "source": [
    "# tuples L = [1, 2]\n",
    "\n",
    "L1 = [1, 2] # you can't change the elements later\n",
    "\n",
    "L2 = (1, 3)"
   ]
  },
  {
   "cell_type": "code",
   "execution_count": 3,
   "metadata": {},
   "outputs": [
    {
     "ename": "NameError",
     "evalue": "name 'str1' is not defined",
     "output_type": "error",
     "traceback": [
      "\u001b[1;31m---------------------------------------------------------------------------\u001b[0m",
      "\u001b[1;31mNameError\u001b[0m                                 Traceback (most recent call last)",
      "Cell \u001b[1;32mIn[3], line 3\u001b[0m\n\u001b[0;32m      1\u001b[0m stri \u001b[39m=\u001b[39m \u001b[39m\"\u001b[39m\u001b[39mabc def\u001b[39m\u001b[39m\"\u001b[39m\n\u001b[1;32m----> 3\u001b[0m L \u001b[39m=\u001b[39m str1\u001b[39m.\u001b[39msplit() \u001b[39m# returns a list of substrings \u001b[39;00m\n\u001b[0;32m      4\u001b[0m L[\u001b[39m1\u001b[39m]\n",
      "\u001b[1;31mNameError\u001b[0m: name 'str1' is not defined"
     ]
    }
   ],
   "source": [
    "stri = \"abc def\"\n",
    "\n",
    "L = str1.split() # returns a list of substrings \n",
    "L[1]"
   ]
  },
  {
   "cell_type": "code",
   "execution_count": 2,
   "metadata": {},
   "outputs": [
    {
     "data": {
      "text/plain": [
       "True"
      ]
     },
     "execution_count": 2,
     "metadata": {},
     "output_type": "execute_result"
    }
   ],
   "source": [
    "b = True # boolean \n",
    "s = \"True\" # string\n",
    "\n",
    "(1==2) == (3>4) #\n",
    "False == False # True"
   ]
  },
  {
   "cell_type": "code",
   "execution_count": 4,
   "metadata": {},
   "outputs": [
    {
     "name": "stdout",
     "output_type": "stream",
     "text": [
      "3 1\n",
      "10 = 3.0 * 3 + 1.0\n"
     ]
    },
    {
     "ename": "TypeError",
     "evalue": "not all arguments converted during string formatting",
     "output_type": "error",
     "traceback": [
      "\u001b[1;31m---------------------------------------------------------------------------\u001b[0m",
      "\u001b[1;31mTypeError\u001b[0m                                 Traceback (most recent call last)",
      "Cell \u001b[1;32mIn[4], line 5\u001b[0m\n\u001b[0;32m      3\u001b[0m \u001b[39mprint\u001b[39m (q,r)\n\u001b[0;32m      4\u001b[0m \u001b[39mprint\u001b[39m (\u001b[39m\"\u001b[39m\u001b[39m10 = \u001b[39m\u001b[39m%.1f\u001b[39;00m\u001b[39m * 3 + \u001b[39m\u001b[39m%.1f\u001b[39;00m\u001b[39m\"\u001b[39m \u001b[39m%\u001b[39m (q,r))\n\u001b[1;32m----> 5\u001b[0m \u001b[39mprint\u001b[39m (\u001b[39m\"\u001b[39;49m\u001b[39m{}\u001b[39;49;00m\u001b[39m\"\u001b[39;49m \u001b[39m%\u001b[39;49m q)\n",
      "\u001b[1;31mTypeError\u001b[0m: not all arguments converted during string formatting"
     ]
    }
   ],
   "source": [
    "q = 10 // 3\n",
    "r = 10 % 3\n",
    "print (q,r)\n",
    "print (\"10 = %.1f * 3 + %.1f\" % (q,r))\n",
    "print (\"{}\" % q)"
   ]
  },
  {
   "cell_type": "code",
   "execution_count": 5,
   "metadata": {},
   "outputs": [
    {
     "name": "stdout",
     "output_type": "stream",
     "text": [
      " aa afadf abdfadf        \t \t \t \n",
      " \n",
      " #\n"
     ]
    },
    {
     "data": {
      "text/plain": [
       "['aa', 'afadf', 'abdfadf']"
      ]
     },
     "execution_count": 5,
     "metadata": {},
     "output_type": "execute_result"
    }
   ],
   "source": [
    "str1 = \" aa afadf abdfadf        \\t \\t \\t \\n \\n \\r\" \n",
    "print(str1, '#') \n",
    "str1.strip().split(' ')"
   ]
  },
  {
   "cell_type": "code",
   "execution_count": 8,
   "metadata": {},
   "outputs": [
    {
     "name": "stdout",
     "output_type": "stream",
     "text": [
      "ip nat inside source list ACL interface GigabitEthernet0/1 overload\n"
     ]
    }
   ],
   "source": [
    "nat = \"ip nat inside source list ACL interface FastEthernet0/1 overload\"\n",
    "nat_gig = nat.replace(\"Fast\", \"Gigabit\")\n",
    "print(nat_gig)"
   ]
  },
  {
   "cell_type": "code",
   "execution_count": 11,
   "metadata": {},
   "outputs": [
    {
     "name": "stdout",
     "output_type": "stream",
     "text": [
      "AAAA.BBBB.CCCC\n"
     ]
    }
   ],
   "source": [
    "mac = \"AAAA:BBBB:CCCC\"\n",
    "new_mac = mac.replace(\":\", \".\")\n",
    "print(new_mac)"
   ]
  },
  {
   "cell_type": "code",
   "execution_count": 12,
   "metadata": {},
   "outputs": [
    {
     "name": "stdout",
     "output_type": "stream",
     "text": [
      "['1', '3', '10', '20', '30', '100']\n"
     ]
    }
   ],
   "source": [
    "config = \"switchport trunk allowed vlan 1,3,10,20,30,100\"\n",
    "result = config.split()[-1].split(\",\")\n",
    "print(result)\n"
   ]
  },
  {
   "cell_type": "code",
   "execution_count": 13,
   "metadata": {},
   "outputs": [
    {
     "name": "stdout",
     "output_type": "stream",
     "text": [
      "[1, 2, 3, 4, 10, 20, 30, 100]\n"
     ]
    }
   ],
   "source": [
    "vlans = [10, 20, 30, 1, 2, 100, 10, 30, 3, 4, 10]\n",
    "unique_vlans = sorted(list(set(vlans)))\n",
    "result = unique_vlans\n",
    "print(result)\n"
   ]
  },
  {
   "cell_type": "code",
   "execution_count": null,
   "metadata": {},
   "outputs": [],
   "source": []
  }
 ],
 "metadata": {
  "kernelspec": {
   "display_name": "Python 3",
   "language": "python",
   "name": "python3"
  },
  "language_info": {
   "codemirror_mode": {
    "name": "ipython",
    "version": 3
   },
   "file_extension": ".py",
   "mimetype": "text/x-python",
   "name": "python",
   "nbconvert_exporter": "python",
   "pygments_lexer": "ipython3",
   "version": "3.10.11"
  },
  "orig_nbformat": 4
 },
 "nbformat": 4,
 "nbformat_minor": 2
}
